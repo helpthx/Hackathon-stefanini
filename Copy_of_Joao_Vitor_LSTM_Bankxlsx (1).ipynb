{
  "nbformat": 4,
  "nbformat_minor": 0,
  "metadata": {
    "colab": {
      "name": "Copy of Joao_Vitor_LSTM_Bankxlsx.ipynb",
      "version": "0.3.2",
      "provenance": [],
      "collapsed_sections": [],
      "toc_visible": true
    },
    "kernelspec": {
      "name": "python3",
      "display_name": "Python 3"
    },
    "accelerator": "GPU"
  },
  "cells": [
    {
      "cell_type": "markdown",
      "metadata": {
        "id": "AtcXAvvgH3Rf",
        "colab_type": "text"
      },
      "source": [
        "# Treinamento de IA Stefanini\n",
        "##Nome: João Vitor Rodrigues Baptista\n",
        "## [Github](https://github.com/helpthx) \n",
        "##[LinkedIn](https://www.linkedin.com/in/jo%C3%A3o-vitor-rodrigues-baptista-4a3546149/) \n",
        "\n",
        "### Para as datas devem predizer qual são os montantes para os próximos pontos de entrada na validação e teste. E verificar em uma outra predição os pontos de melhores clientes. Lembrando que não quero a melhor predição e sim como irá ficar a arquitetura e as explicações.\n",
        "\n",
        "#### Atributos:\n",
        "Account No. - representa o número da conta envolvida na transação.\\\n",
        "Date - data da transação.\\\n",
        "Transaction Details - narrações de transação em extratos bancários.\\\n",
        "Cheque No. - indica o número do cheque.\\\n",
        "Value Date - Data de conclusão da transação.\\\n",
        "Withdrawal Amount - Indica o montante retirado.\\\n",
        "Deposit Amount - Indica o valor depositado.\\\n",
        "Balance Amount - saldo atual da conta.\n",
        "\n",
        "### Jupyter do google Google Colab treinado usando GPU.\n",
        "[Google Colab](https://colab.research.google.com/drive/1q8y010qy7E0bOYZ2Y7u9OL7YyEDTd8Im#scrollTo=AtcXAvvgH3Rf)\n"
      ]
    },
    {
      "cell_type": "code",
      "metadata": {
        "id": "BDUMRvaiWZbh",
        "colab_type": "code",
        "outputId": "2458c68a-f6e0-4f02-befd-cab22cd6b670",
        "colab": {
          "base_uri": "https://localhost:8080/",
          "height": 470
        }
      },
      "source": [
        "import numpy as np\n",
        "import os\n",
        "import sys\n",
        "import time\n",
        "import pandas as pd\n",
        "import tensorflow as tf\n",
        "import pickle\n",
        "import logging\n",
        "from keras.models import Sequential, load_model\n",
        "from keras.layers import Dense, Dropout\n",
        "from keras.layers import LSTM\n",
        "from keras.callbacks import ModelCheckpoint, EarlyStopping, ReduceLROnPlateau,\\\n",
        "CSVLogger\n",
        "from keras import optimizers\n",
        "from keras.wrappers.scikit_learn import KerasClassifier\n",
        "from sklearn.preprocessing import MinMaxScaler\n",
        "from sklearn.model_selection import train_test_split\n",
        "from sklearn.metrics import mean_squared_error\n",
        "from tqdm._tqdm_notebook import tqdm_notebook\n",
        "from tensorflow.python.client import device_lib\n",
        "from sklearn.metrics import mean_absolute_error\n",
        "from matplotlib import pyplot as plt\n",
        "device_lib.list_local_devices()"
      ],
      "execution_count": 6,
      "outputs": [
        {
          "output_type": "execute_result",
          "data": {
            "text/plain": [
              "[name: \"/device:CPU:0\"\n",
              " device_type: \"CPU\"\n",
              " memory_limit: 268435456\n",
              " locality {\n",
              " }\n",
              " incarnation: 16710938534201277411, name: \"/device:XLA_CPU:0\"\n",
              " device_type: \"XLA_CPU\"\n",
              " memory_limit: 17179869184\n",
              " locality {\n",
              " }\n",
              " incarnation: 8810051754026150567\n",
              " physical_device_desc: \"device: XLA_CPU device\", name: \"/device:XLA_GPU:0\"\n",
              " device_type: \"XLA_GPU\"\n",
              " memory_limit: 17179869184\n",
              " locality {\n",
              " }\n",
              " incarnation: 6553212840146943754\n",
              " physical_device_desc: \"device: XLA_GPU device\", name: \"/device:GPU:0\"\n",
              " device_type: \"GPU\"\n",
              " memory_limit: 14892338381\n",
              " locality {\n",
              "   bus_id: 1\n",
              "   links {\n",
              "   }\n",
              " }\n",
              " incarnation: 3033513746401752919\n",
              " physical_device_desc: \"device: 0, name: Tesla T4, pci bus id: 0000:00:04.0, compute capability: 7.5\"]"
            ]
          },
          "metadata": {
            "tags": []
          },
          "execution_count": 6
        }
      ]
    },
    {
      "cell_type": "markdown",
      "metadata": {
        "id": "qNiTYXzhVTEL",
        "colab_type": "text"
      },
      "source": [
        "### 1 - Fiz uma pequena pesquisa para verificar de onde poderia ter vindo os dados.\n",
        "\n",
        "Encontrei que é um padrão de dados vindo de um tipo de servico bancario da India. Chamado HDFC Bank.\n",
        "\n",
        "Referências: \\\n",
        "[1](https://towardsdatascience.com/predicting-stock-price-with-lstm-13af86a74944)\\\n",
        "[2](https://towardsdatascience.com/find-your-best-customers-with-customer-segmentation-in-python-61d602f9eee6)\\\n",
        "[3](https://medium.com/@_samkitjain/developing-a-bank-statement-analyser-7470bffbe5e2)\n"
      ]
    },
    {
      "cell_type": "markdown",
      "metadata": {
        "id": "JMa3Max_Xd2U",
        "colab_type": "text"
      },
      "source": [
        "#### 2 - Lendo e Analizando os dados "
      ]
    },
    {
      "cell_type": "code",
      "metadata": {
        "id": "mAl3Qv3ZvUWx",
        "colab_type": "code",
        "outputId": "5eda6bb4-7c8a-488b-a699-ff8e05a16296",
        "colab": {
          "base_uri": "https://localhost:8080/",
          "height": 195
        }
      },
      "source": [
        "# Foi feita uma conversão de xlsx -> csv, apenas salvando o excel em csv\n",
        "df_ge = pd.read_excel('bank.xlsx')\n",
        "df_ge.tail()"
      ],
      "execution_count": 7,
      "outputs": [
        {
          "output_type": "execute_result",
          "data": {
            "text/html": [
              "<div>\n",
              "<style scoped>\n",
              "    .dataframe tbody tr th:only-of-type {\n",
              "        vertical-align: middle;\n",
              "    }\n",
              "\n",
              "    .dataframe tbody tr th {\n",
              "        vertical-align: top;\n",
              "    }\n",
              "\n",
              "    .dataframe thead th {\n",
              "        text-align: right;\n",
              "    }\n",
              "</style>\n",
              "<table border=\"1\" class=\"dataframe\">\n",
              "  <thead>\n",
              "    <tr style=\"text-align: right;\">\n",
              "      <th></th>\n",
              "      <th>Account No</th>\n",
              "      <th>DATE</th>\n",
              "      <th>TRANSACTION DETAILS</th>\n",
              "      <th>CHQ.NO.</th>\n",
              "      <th>VALUE DATE</th>\n",
              "      <th>WITHDRAWAL AMT</th>\n",
              "      <th>DEPOSIT AMT</th>\n",
              "      <th>BALANCE AMT</th>\n",
              "      <th>.</th>\n",
              "    </tr>\n",
              "  </thead>\n",
              "  <tbody>\n",
              "    <tr>\n",
              "      <th>116196</th>\n",
              "      <td>409000362497'</td>\n",
              "      <td>2019-03-05</td>\n",
              "      <td>TRF TO 1196428  Indiaforensic SE</td>\n",
              "      <td>NaN</td>\n",
              "      <td>2019-03-05</td>\n",
              "      <td>117934.30</td>\n",
              "      <td>NaN</td>\n",
              "      <td>-1.901902e+09</td>\n",
              "      <td>.</td>\n",
              "    </tr>\n",
              "    <tr>\n",
              "      <th>116197</th>\n",
              "      <td>409000362497'</td>\n",
              "      <td>2019-03-05</td>\n",
              "      <td>FDRL/INTERNAL FUND TRANSFE</td>\n",
              "      <td>NaN</td>\n",
              "      <td>2019-03-05</td>\n",
              "      <td>NaN</td>\n",
              "      <td>300000.0</td>\n",
              "      <td>-1.901602e+09</td>\n",
              "      <td>.</td>\n",
              "    </tr>\n",
              "    <tr>\n",
              "      <th>116198</th>\n",
              "      <td>409000362497'</td>\n",
              "      <td>2019-03-05</td>\n",
              "      <td>FDRL/INTERNAL FUND TRANSFE</td>\n",
              "      <td>NaN</td>\n",
              "      <td>2019-03-05</td>\n",
              "      <td>NaN</td>\n",
              "      <td>300000.0</td>\n",
              "      <td>-1.901302e+09</td>\n",
              "      <td>.</td>\n",
              "    </tr>\n",
              "    <tr>\n",
              "      <th>116199</th>\n",
              "      <td>409000362497'</td>\n",
              "      <td>2019-03-05</td>\n",
              "      <td>IMPS 05-03-20194C</td>\n",
              "      <td>NaN</td>\n",
              "      <td>2019-03-05</td>\n",
              "      <td>109868.65</td>\n",
              "      <td>NaN</td>\n",
              "      <td>-1.901412e+09</td>\n",
              "      <td>.</td>\n",
              "    </tr>\n",
              "    <tr>\n",
              "      <th>116200</th>\n",
              "      <td>409000362497'</td>\n",
              "      <td>2019-03-05</td>\n",
              "      <td>Sweep Trf To: 40900036427</td>\n",
              "      <td>NaN</td>\n",
              "      <td>2019-03-05</td>\n",
              "      <td>5000.00</td>\n",
              "      <td>NaN</td>\n",
              "      <td>-1.901417e+09</td>\n",
              "      <td>.</td>\n",
              "    </tr>\n",
              "  </tbody>\n",
              "</table>\n",
              "</div>"
            ],
            "text/plain": [
              "           Account No       DATE  ...   BALANCE AMT  .\n",
              "116196  409000362497' 2019-03-05  ... -1.901902e+09  .\n",
              "116197  409000362497' 2019-03-05  ... -1.901602e+09  .\n",
              "116198  409000362497' 2019-03-05  ... -1.901302e+09  .\n",
              "116199  409000362497' 2019-03-05  ... -1.901412e+09  .\n",
              "116200  409000362497' 2019-03-05  ... -1.901417e+09  .\n",
              "\n",
              "[5 rows x 9 columns]"
            ]
          },
          "metadata": {
            "tags": []
          },
          "execution_count": 7
        }
      ]
    },
    {
      "cell_type": "code",
      "metadata": {
        "id": "bk35oPI13bmW",
        "colab_type": "code",
        "outputId": "3c206c0e-14eb-4ec5-ce0e-20f12b36d589",
        "colab": {
          "base_uri": "https://localhost:8080/",
          "height": 195
        }
      },
      "source": [
        "df_ge.head()"
      ],
      "execution_count": 8,
      "outputs": [
        {
          "output_type": "execute_result",
          "data": {
            "text/html": [
              "<div>\n",
              "<style scoped>\n",
              "    .dataframe tbody tr th:only-of-type {\n",
              "        vertical-align: middle;\n",
              "    }\n",
              "\n",
              "    .dataframe tbody tr th {\n",
              "        vertical-align: top;\n",
              "    }\n",
              "\n",
              "    .dataframe thead th {\n",
              "        text-align: right;\n",
              "    }\n",
              "</style>\n",
              "<table border=\"1\" class=\"dataframe\">\n",
              "  <thead>\n",
              "    <tr style=\"text-align: right;\">\n",
              "      <th></th>\n",
              "      <th>Account No</th>\n",
              "      <th>DATE</th>\n",
              "      <th>TRANSACTION DETAILS</th>\n",
              "      <th>CHQ.NO.</th>\n",
              "      <th>VALUE DATE</th>\n",
              "      <th>WITHDRAWAL AMT</th>\n",
              "      <th>DEPOSIT AMT</th>\n",
              "      <th>BALANCE AMT</th>\n",
              "      <th>.</th>\n",
              "    </tr>\n",
              "  </thead>\n",
              "  <tbody>\n",
              "    <tr>\n",
              "      <th>0</th>\n",
              "      <td>409000611074'</td>\n",
              "      <td>2017-06-29</td>\n",
              "      <td>TRF FROM  Indiaforensic SERVICES</td>\n",
              "      <td>NaN</td>\n",
              "      <td>2017-06-29</td>\n",
              "      <td>NaN</td>\n",
              "      <td>1000000.0</td>\n",
              "      <td>1000000.0</td>\n",
              "      <td>.</td>\n",
              "    </tr>\n",
              "    <tr>\n",
              "      <th>1</th>\n",
              "      <td>409000611074'</td>\n",
              "      <td>2017-07-05</td>\n",
              "      <td>TRF FROM  Indiaforensic SERVICES</td>\n",
              "      <td>NaN</td>\n",
              "      <td>2017-07-05</td>\n",
              "      <td>NaN</td>\n",
              "      <td>1000000.0</td>\n",
              "      <td>2000000.0</td>\n",
              "      <td>.</td>\n",
              "    </tr>\n",
              "    <tr>\n",
              "      <th>2</th>\n",
              "      <td>409000611074'</td>\n",
              "      <td>2017-07-18</td>\n",
              "      <td>FDRL/INTERNAL FUND TRANSFE</td>\n",
              "      <td>NaN</td>\n",
              "      <td>2017-07-18</td>\n",
              "      <td>NaN</td>\n",
              "      <td>500000.0</td>\n",
              "      <td>2500000.0</td>\n",
              "      <td>.</td>\n",
              "    </tr>\n",
              "    <tr>\n",
              "      <th>3</th>\n",
              "      <td>409000611074'</td>\n",
              "      <td>2017-08-01</td>\n",
              "      <td>TRF FRM  Indiaforensic SERVICES</td>\n",
              "      <td>NaN</td>\n",
              "      <td>2017-08-01</td>\n",
              "      <td>NaN</td>\n",
              "      <td>3000000.0</td>\n",
              "      <td>5500000.0</td>\n",
              "      <td>.</td>\n",
              "    </tr>\n",
              "    <tr>\n",
              "      <th>4</th>\n",
              "      <td>409000611074'</td>\n",
              "      <td>2017-08-16</td>\n",
              "      <td>FDRL/INTERNAL FUND TRANSFE</td>\n",
              "      <td>NaN</td>\n",
              "      <td>2017-08-16</td>\n",
              "      <td>NaN</td>\n",
              "      <td>500000.0</td>\n",
              "      <td>6000000.0</td>\n",
              "      <td>.</td>\n",
              "    </tr>\n",
              "  </tbody>\n",
              "</table>\n",
              "</div>"
            ],
            "text/plain": [
              "      Account No       DATE  ... BALANCE AMT  .\n",
              "0  409000611074' 2017-06-29  ...   1000000.0  .\n",
              "1  409000611074' 2017-07-05  ...   2000000.0  .\n",
              "2  409000611074' 2017-07-18  ...   2500000.0  .\n",
              "3  409000611074' 2017-08-01  ...   5500000.0  .\n",
              "4  409000611074' 2017-08-16  ...   6000000.0  .\n",
              "\n",
              "[5 rows x 9 columns]"
            ]
          },
          "metadata": {
            "tags": []
          },
          "execution_count": 8
        }
      ]
    },
    {
      "cell_type": "code",
      "metadata": {
        "id": "QxVu5RiOX60E",
        "colab_type": "code",
        "outputId": "7487faaf-d5f2-4cfe-9aa2-8cadadb49850",
        "colab": {
          "base_uri": "https://localhost:8080/",
          "height": 34
        }
      },
      "source": [
        "print(len(df_ge))"
      ],
      "execution_count": 9,
      "outputs": [
        {
          "output_type": "stream",
          "text": [
            "116201\n"
          ],
          "name": "stdout"
        }
      ]
    },
    {
      "cell_type": "code",
      "metadata": {
        "id": "v4tE5LdnidkS",
        "colab_type": "code",
        "outputId": "4ce35412-811d-4e17-de19-8cdbb2313794",
        "colab": {
          "base_uri": "https://localhost:8080/",
          "height": 202
        }
      },
      "source": [
        "print(\"Verificando a quantidade de valores NaN\\n\", df_ge.isna().sum())"
      ],
      "execution_count": 10,
      "outputs": [
        {
          "output_type": "stream",
          "text": [
            "Verificando a quantidade de valores NaN\n",
            " Account No                  0\n",
            "DATE                        0\n",
            "TRANSACTION DETAILS      2499\n",
            "CHQ.NO.                115296\n",
            "VALUE DATE                  0\n",
            "WITHDRAWAL AMT          62652\n",
            "DEPOSIT AMT             53549\n",
            "BALANCE AMT                 0\n",
            ".                           0\n",
            "dtype: int64\n"
          ],
          "name": "stdout"
        }
      ]
    },
    {
      "cell_type": "code",
      "metadata": {
        "id": "VhIScRRugjYz",
        "colab_type": "code",
        "outputId": "369654c3-4888-42c3-b89b-9253fc6bb852",
        "colab": {
          "base_uri": "https://localhost:8080/",
          "height": 77
        }
      },
      "source": [
        "df_ge.iloc[[21996]]"
      ],
      "execution_count": 11,
      "outputs": [
        {
          "output_type": "execute_result",
          "data": {
            "text/html": [
              "<div>\n",
              "<style scoped>\n",
              "    .dataframe tbody tr th:only-of-type {\n",
              "        vertical-align: middle;\n",
              "    }\n",
              "\n",
              "    .dataframe tbody tr th {\n",
              "        vertical-align: top;\n",
              "    }\n",
              "\n",
              "    .dataframe thead th {\n",
              "        text-align: right;\n",
              "    }\n",
              "</style>\n",
              "<table border=\"1\" class=\"dataframe\">\n",
              "  <thead>\n",
              "    <tr style=\"text-align: right;\">\n",
              "      <th></th>\n",
              "      <th>Account No</th>\n",
              "      <th>DATE</th>\n",
              "      <th>TRANSACTION DETAILS</th>\n",
              "      <th>CHQ.NO.</th>\n",
              "      <th>VALUE DATE</th>\n",
              "      <th>WITHDRAWAL AMT</th>\n",
              "      <th>DEPOSIT AMT</th>\n",
              "      <th>BALANCE AMT</th>\n",
              "      <th>.</th>\n",
              "    </tr>\n",
              "  </thead>\n",
              "  <tbody>\n",
              "    <tr>\n",
              "      <th>21996</th>\n",
              "      <td>409000438620'</td>\n",
              "      <td>2018-06-13</td>\n",
              "      <td>CR815910576719/RMCPL17224/0</td>\n",
              "      <td>NaN</td>\n",
              "      <td>2018-06-13</td>\n",
              "      <td>2000.0</td>\n",
              "      <td>NaN</td>\n",
              "      <td>-5.207105e+08</td>\n",
              "      <td>.</td>\n",
              "    </tr>\n",
              "  </tbody>\n",
              "</table>\n",
              "</div>"
            ],
            "text/plain": [
              "          Account No       DATE  ...   BALANCE AMT  .\n",
              "21996  409000438620' 2018-06-13  ... -5.207105e+08  .\n",
              "\n",
              "[1 rows x 9 columns]"
            ]
          },
          "metadata": {
            "tags": []
          },
          "execution_count": 11
        }
      ]
    },
    {
      "cell_type": "markdown",
      "metadata": {
        "id": "8GU6EOERkls5",
        "colab_type": "text"
      },
      "source": [
        "#### 3 - Tratando os NaN, tipos de dados e valores negaticos do dataframe "
      ]
    },
    {
      "cell_type": "code",
      "metadata": {
        "id": "cIULMnxfkhS0",
        "colab_type": "code",
        "outputId": "3cb670d7-a7c0-4667-db5e-a95b28b7ca06",
        "colab": {
          "base_uri": "https://localhost:8080/",
          "height": 34
        }
      },
      "source": [
        "# Verificando os tipos de dados\n",
        "df_ge['BALANCE AMT'].dtypes"
      ],
      "execution_count": 12,
      "outputs": [
        {
          "output_type": "execute_result",
          "data": {
            "text/plain": [
              "dtype('float64')"
            ]
          },
          "metadata": {
            "tags": []
          },
          "execution_count": 12
        }
      ]
    },
    {
      "cell_type": "code",
      "metadata": {
        "id": "p5F_OonvpFgY",
        "colab_type": "code",
        "outputId": "9ab11d64-a1a6-415b-d31f-8581761d62c5",
        "colab": {
          "base_uri": "https://localhost:8080/",
          "height": 284
        }
      },
      "source": [
        "df_ge.describe()"
      ],
      "execution_count": 13,
      "outputs": [
        {
          "output_type": "execute_result",
          "data": {
            "text/html": [
              "<div>\n",
              "<style scoped>\n",
              "    .dataframe tbody tr th:only-of-type {\n",
              "        vertical-align: middle;\n",
              "    }\n",
              "\n",
              "    .dataframe tbody tr th {\n",
              "        vertical-align: top;\n",
              "    }\n",
              "\n",
              "    .dataframe thead th {\n",
              "        text-align: right;\n",
              "    }\n",
              "</style>\n",
              "<table border=\"1\" class=\"dataframe\">\n",
              "  <thead>\n",
              "    <tr style=\"text-align: right;\">\n",
              "      <th></th>\n",
              "      <th>CHQ.NO.</th>\n",
              "      <th>WITHDRAWAL AMT</th>\n",
              "      <th>DEPOSIT AMT</th>\n",
              "      <th>BALANCE AMT</th>\n",
              "    </tr>\n",
              "  </thead>\n",
              "  <tbody>\n",
              "    <tr>\n",
              "      <th>count</th>\n",
              "      <td>905.000000</td>\n",
              "      <td>5.354900e+04</td>\n",
              "      <td>6.265200e+04</td>\n",
              "      <td>1.162010e+05</td>\n",
              "    </tr>\n",
              "    <tr>\n",
              "      <th>mean</th>\n",
              "      <td>791614.503867</td>\n",
              "      <td>4.489190e+06</td>\n",
              "      <td>3.806586e+06</td>\n",
              "      <td>-1.404852e+09</td>\n",
              "    </tr>\n",
              "    <tr>\n",
              "      <th>std</th>\n",
              "      <td>151205.932910</td>\n",
              "      <td>1.084850e+07</td>\n",
              "      <td>8.683093e+06</td>\n",
              "      <td>5.348202e+08</td>\n",
              "    </tr>\n",
              "    <tr>\n",
              "      <th>min</th>\n",
              "      <td>1.000000</td>\n",
              "      <td>1.000000e-02</td>\n",
              "      <td>1.000000e-02</td>\n",
              "      <td>-2.045201e+09</td>\n",
              "    </tr>\n",
              "    <tr>\n",
              "      <th>25%</th>\n",
              "      <td>704231.000000</td>\n",
              "      <td>3.000000e+03</td>\n",
              "      <td>9.900000e+04</td>\n",
              "      <td>-1.690383e+09</td>\n",
              "    </tr>\n",
              "    <tr>\n",
              "      <th>50%</th>\n",
              "      <td>873812.000000</td>\n",
              "      <td>4.708300e+04</td>\n",
              "      <td>4.265000e+05</td>\n",
              "      <td>-1.661395e+09</td>\n",
              "    </tr>\n",
              "    <tr>\n",
              "      <th>75%</th>\n",
              "      <td>874167.000000</td>\n",
              "      <td>5.000000e+06</td>\n",
              "      <td>4.746411e+06</td>\n",
              "      <td>-1.236888e+09</td>\n",
              "    </tr>\n",
              "    <tr>\n",
              "      <th>max</th>\n",
              "      <td>874525.000000</td>\n",
              "      <td>4.594475e+08</td>\n",
              "      <td>5.448000e+08</td>\n",
              "      <td>8.500000e+06</td>\n",
              "    </tr>\n",
              "  </tbody>\n",
              "</table>\n",
              "</div>"
            ],
            "text/plain": [
              "             CHQ.NO.  WITHDRAWAL AMT   DEPOSIT AMT   BALANCE AMT\n",
              "count     905.000000    5.354900e+04  6.265200e+04  1.162010e+05\n",
              "mean   791614.503867    4.489190e+06  3.806586e+06 -1.404852e+09\n",
              "std    151205.932910    1.084850e+07  8.683093e+06  5.348202e+08\n",
              "min         1.000000    1.000000e-02  1.000000e-02 -2.045201e+09\n",
              "25%    704231.000000    3.000000e+03  9.900000e+04 -1.690383e+09\n",
              "50%    873812.000000    4.708300e+04  4.265000e+05 -1.661395e+09\n",
              "75%    874167.000000    5.000000e+06  4.746411e+06 -1.236888e+09\n",
              "max    874525.000000    4.594475e+08  5.448000e+08  8.500000e+06"
            ]
          },
          "metadata": {
            "tags": []
          },
          "execution_count": 13
        }
      ]
    },
    {
      "cell_type": "code",
      "metadata": {
        "id": "YsVq8ppYqdmN",
        "colab_type": "code",
        "outputId": "f080559f-ece4-42b4-ac42-8ebad9363ef1",
        "colab": {
          "base_uri": "https://localhost:8080/",
          "height": 621
        }
      },
      "source": [
        "# Ploando os valores para avaliar o comportamento das colunas\n",
        "plt.figure(figsize=(10,10))\n",
        "plt.plot(df_ge['CHQ.NO.'])\n",
        "plt.plot(df_ge['WITHDRAWAL AMT'])\n",
        "plt.plot(df_ge['DEPOSIT AMT'])\n",
        "plt.plot(df_ge['BALANCE AMT'])\n",
        "plt.title('Valores continuos do dataset do HDFC Bank')\n",
        "plt.ylabel('Amount (Money)')\n",
        "plt.xlabel('Days')\n",
        "plt.legend(['CHQ.NO.','WITHDRAWAL AMT','DEPOSIT AMT','BALANCE AMT'], \n",
        "           loc='upper left')\n",
        "plt.show()"
      ],
      "execution_count": 14,
      "outputs": [
        {
          "output_type": "display_data",
          "data": {
            "image/png": "[encoded data removed]",
            "text/plain": [
              "<Figure size 720x720 with 1 Axes>"
            ]
          },
          "metadata": {
            "tags": []
          }
        }
      ]
    },
    {
      "cell_type": "markdown",
      "metadata": {
        "id": "bDgNYE_i8ceh",
        "colab_type": "text"
      },
      "source": [
        "Parece que o WITHDRAWAL AMT e o DEPOSIT AMT não variam tanto ao longo dos dias, comparando os outras features."
      ]
    },
    {
      "cell_type": "code",
      "metadata": {
        "id": "Iz7GFtyf6aAT",
        "colab_type": "code",
        "outputId": "81a8b5eb-a345-4e13-e644-070dcccd6d4c",
        "colab": {
          "base_uri": "https://localhost:8080/",
          "height": 621
        }
      },
      "source": [
        "# Ploando os valores para avaliar o comportamento das colunas\n",
        "plt.figure(figsize=(10,10))\n",
        "plt.plot(df_ge['WITHDRAWAL AMT'])\n",
        "plt.plot(df_ge['DEPOSIT AMT'])\n",
        "plt.title('Valores continuos do dataset do HDFC Bank')\n",
        "plt.ylabel('Amount (Money)')\n",
        "plt.xlabel('Days')\n",
        "plt.legend(['WITHDRAWAL AMT','DEPOSIT AMT'], loc='upper left')\n",
        "plt.show()"
      ],
      "execution_count": 15,
      "outputs": [
        {
          "output_type": "display_data",
          "data": {
            "image/png": "[encoded data removed]",
            "text/plain": [
              "<Figure size 720x720 with 1 Axes>"
            ]
          },
          "metadata": {
            "tags": []
          }
        }
      ]
    },
    {
      "cell_type": "markdown",
      "metadata": {
        "id": "jRK8PSrd_kj7",
        "colab_type": "text"
      },
      "source": [
        "### 4 - Normalizando os dados/ Partindo os dados em treino/teste\n",
        "Como os dados não estão numa mesma escala é necessario fazer a normalização. Com a normalização é possivel convergir os dados para um local/global minino eficientemente."
      ]
    },
    {
      "cell_type": "code",
      "metadata": {
        "id": "esm2Ql0h3Jtm",
        "colab_type": "code",
        "outputId": "79fbee1a-655f-4098-e87b-711e79f45703",
        "colab": {
          "base_uri": "https://localhost:8080/",
          "height": 195
        }
      },
      "source": [
        "df_ge=df_ge.fillna({'WITHDRAWAL AMT':0.0})\n",
        "df_ge.head()\n",
        "\n",
        "dataset = df_ge.filter(items =['WITHDRAWAL AMT'])\n",
        "dataset.tail(5)"
      ],
      "execution_count": 16,
      "outputs": [
        {
          "output_type": "execute_result",
          "data": {
            "text/html": [
              "<div>\n",
              "<style scoped>\n",
              "    .dataframe tbody tr th:only-of-type {\n",
              "        vertical-align: middle;\n",
              "    }\n",
              "\n",
              "    .dataframe tbody tr th {\n",
              "        vertical-align: top;\n",
              "    }\n",
              "\n",
              "    .dataframe thead th {\n",
              "        text-align: right;\n",
              "    }\n",
              "</style>\n",
              "<table border=\"1\" class=\"dataframe\">\n",
              "  <thead>\n",
              "    <tr style=\"text-align: right;\">\n",
              "      <th></th>\n",
              "      <th>WITHDRAWAL AMT</th>\n",
              "    </tr>\n",
              "  </thead>\n",
              "  <tbody>\n",
              "    <tr>\n",
              "      <th>116196</th>\n",
              "      <td>117934.30</td>\n",
              "    </tr>\n",
              "    <tr>\n",
              "      <th>116197</th>\n",
              "      <td>0.00</td>\n",
              "    </tr>\n",
              "    <tr>\n",
              "      <th>116198</th>\n",
              "      <td>0.00</td>\n",
              "    </tr>\n",
              "    <tr>\n",
              "      <th>116199</th>\n",
              "      <td>109868.65</td>\n",
              "    </tr>\n",
              "    <tr>\n",
              "      <th>116200</th>\n",
              "      <td>5000.00</td>\n",
              "    </tr>\n",
              "  </tbody>\n",
              "</table>\n",
              "</div>"
            ],
            "text/plain": [
              "        WITHDRAWAL AMT\n",
              "116196       117934.30\n",
              "116197            0.00\n",
              "116198            0.00\n",
              "116199       109868.65\n",
              "116200         5000.00"
            ]
          },
          "metadata": {
            "tags": []
          },
          "execution_count": 16
        }
      ]
    },
    {
      "cell_type": "code",
      "metadata": {
        "id": "BWFnnk4nDJv-",
        "colab_type": "code",
        "outputId": "e0c4d8bd-7b63-4a65-80fe-e7696eb59587",
        "colab": {
          "base_uri": "https://localhost:8080/",
          "height": 34
        }
      },
      "source": [
        "dataset.head(5)\n",
        "len(dataset)"
      ],
      "execution_count": 17,
      "outputs": [
        {
          "output_type": "execute_result",
          "data": {
            "text/plain": [
              "116201"
            ]
          },
          "metadata": {
            "tags": []
          },
          "execution_count": 17
        }
      ]
    },
    {
      "cell_type": "code",
      "metadata": {
        "id": "t8K6H3fv6Xux",
        "colab_type": "code",
        "outputId": "4a01cd0d-3f08-462b-84d2-d369990f95d5",
        "colab": {
          "base_uri": "https://localhost:8080/",
          "height": 284
        }
      },
      "source": [
        "dataset.describe()"
      ],
      "execution_count": 18,
      "outputs": [
        {
          "output_type": "execute_result",
          "data": {
            "text/html": [
              "<div>\n",
              "<style scoped>\n",
              "    .dataframe tbody tr th:only-of-type {\n",
              "        vertical-align: middle;\n",
              "    }\n",
              "\n",
              "    .dataframe tbody tr th {\n",
              "        vertical-align: top;\n",
              "    }\n",
              "\n",
              "    .dataframe thead th {\n",
              "        text-align: right;\n",
              "    }\n",
              "</style>\n",
              "<table border=\"1\" class=\"dataframe\">\n",
              "  <thead>\n",
              "    <tr style=\"text-align: right;\">\n",
              "      <th></th>\n",
              "      <th>WITHDRAWAL AMT</th>\n",
              "    </tr>\n",
              "  </thead>\n",
              "  <tbody>\n",
              "    <tr>\n",
              "      <th>count</th>\n",
              "      <td>1.162010e+05</td>\n",
              "    </tr>\n",
              "    <tr>\n",
              "      <th>mean</th>\n",
              "      <td>2.068757e+06</td>\n",
              "    </tr>\n",
              "    <tr>\n",
              "      <th>std</th>\n",
              "      <td>7.696881e+06</td>\n",
              "    </tr>\n",
              "    <tr>\n",
              "      <th>min</th>\n",
              "      <td>0.000000e+00</td>\n",
              "    </tr>\n",
              "    <tr>\n",
              "      <th>25%</th>\n",
              "      <td>0.000000e+00</td>\n",
              "    </tr>\n",
              "    <tr>\n",
              "      <th>50%</th>\n",
              "      <td>0.000000e+00</td>\n",
              "    </tr>\n",
              "    <tr>\n",
              "      <th>75%</th>\n",
              "      <td>2.682500e+04</td>\n",
              "    </tr>\n",
              "    <tr>\n",
              "      <th>max</th>\n",
              "      <td>4.594475e+08</td>\n",
              "    </tr>\n",
              "  </tbody>\n",
              "</table>\n",
              "</div>"
            ],
            "text/plain": [
              "       WITHDRAWAL AMT\n",
              "count    1.162010e+05\n",
              "mean     2.068757e+06\n",
              "std      7.696881e+06\n",
              "min      0.000000e+00\n",
              "25%      0.000000e+00\n",
              "50%      0.000000e+00\n",
              "75%      2.682500e+04\n",
              "max      4.594475e+08"
            ]
          },
          "metadata": {
            "tags": []
          },
          "execution_count": 18
        }
      ]
    },
    {
      "cell_type": "code",
      "metadata": {
        "id": "UjqxZoLx6eQT",
        "colab_type": "code",
        "outputId": "e1560cbf-4b88-4c33-b153-6816dc896dd8",
        "colab": {
          "base_uri": "https://localhost:8080/",
          "height": 293
        }
      },
      "source": [
        "dataset.plot()"
      ],
      "execution_count": 19,
      "outputs": [
        {
          "output_type": "execute_result",
          "data": {
            "text/plain": [
              "<matplotlib.axes._subplots.AxesSubplot at 0x7f4246525f60>"
            ]
          },
          "metadata": {
            "tags": []
          },
          "execution_count": 19
        },
        {
          "output_type": "display_data",
          "data": {
            "image/png": "[encoded data removed]",
            "text/plain": [
              "<Figure size 432x288 with 1 Axes>"
            ]
          },
          "metadata": {
            "tags": []
          }
        }
      ]
    },
    {
      "cell_type": "markdown",
      "metadata": {
        "id": "7PJMjDQw-ipA",
        "colab_type": "text"
      },
      "source": [
        "Para obter o valor do próximo dado, 60 registros anteriores são usados (2 meses). É necessário separar o dataset em treinamento e teste e, em seguida, separar cada pedaço (batch) dessas bases que serão usados nesses processos."
      ]
    },
    {
      "cell_type": "code",
      "metadata": {
        "id": "chUJNaLD6mPW",
        "colab_type": "code",
        "colab": {}
      },
      "source": [
        "timesteps = 20"
      ],
      "execution_count": 0,
      "outputs": []
    },
    {
      "cell_type": "markdown",
      "metadata": {
        "id": "OqjigzKr-w4Q",
        "colab_type": "text"
      },
      "source": [
        "A normalização da base acelera o processo de treinamento, além de amenizar resultados insatisfatórios que podem ocorrer devido à grande variação nos valores durante o treinamento. Fazendo a normalização de 0 até 1"
      ]
    },
    {
      "cell_type": "code",
      "metadata": {
        "id": "9I6hDsCa6nGg",
        "colab_type": "code",
        "colab": {}
      },
      "source": [
        "base = dataset.iloc[:][:].values # Conversão para float\n",
        "normalizador = MinMaxScaler(feature_range=(0,1))\n",
        "base_normalizada = normalizador.fit_transform(base)"
      ],
      "execution_count": 0,
      "outputs": []
    },
    {
      "cell_type": "code",
      "metadata": {
        "id": "wnmdjhmk-TNR",
        "colab_type": "code",
        "outputId": "849957df-d094-4285-fc61-30a16bfdc2e9",
        "colab": {
          "base_uri": "https://localhost:8080/",
          "height": 286
        }
      },
      "source": [
        "plt.plot(base_normalizada)"
      ],
      "execution_count": 22,
      "outputs": [
        {
          "output_type": "execute_result",
          "data": {
            "text/plain": [
              "[<matplotlib.lines.Line2D at 0x7f42450212e8>]"
            ]
          },
          "metadata": {
            "tags": []
          },
          "execution_count": 22
        },
        {
          "output_type": "display_data",
          "data": {
            "image/png": "[encoded data removed]",
            "text/plain": [
              "<Figure size 432x288 with 1 Axes>"
            ]
          },
          "metadata": {
            "tags": []
          }
        }
      ]
    },
    {
      "cell_type": "markdown",
      "metadata": {
        "id": "LKRVScYlDtpV",
        "colab_type": "text"
      },
      "source": [
        "Seperando o dataset em batchs de treinamento e testes"
      ]
    },
    {
      "cell_type": "code",
      "metadata": {
        "id": "VVqxGUKm6srH",
        "colab_type": "code",
        "colab": {}
      },
      "source": [
        "X = base_normalizada[0:(len(base) - (len(base) % timesteps))] # Previsores\n",
        "\n",
        "# Batches com tamanho = timesteps. Quantidade = (total de registros / timesteps)\n",
        "X_batches = X.reshape(-1, timesteps, 1) \n",
        "Y = base_normalizada[1:(len(base) - (len(base) % timesteps)) + 1] # Valores reais\n",
        "y_batches = Y.reshape(-1, timesteps, 1)"
      ],
      "execution_count": 0,
      "outputs": []
    },
    {
      "cell_type": "markdown",
      "metadata": {
        "id": "Svrw7d0FD18g",
        "colab_type": "text"
      },
      "source": [
        "Criação e normalização das bases de testes"
      ]
    },
    {
      "cell_type": "code",
      "metadata": {
        "id": "mpleYYeQ3HM2",
        "colab_type": "code",
        "colab": {}
      },
      "source": [
        " # Últimos registros do banco. (len(banco) - timesteps) até o final dele\n",
        "X_teste = base[-(timesteps + 1):]\n",
        "X_teste = X_teste[:timesteps]\n",
        "X_teste = normalizador.transform(X_teste)\n",
        "X_teste = X_teste.reshape(-1, timesteps, 1) # Reshape para input do tensorflow\n",
        "\n",
        "# Reparar que o y_teste não utiliza a base normalizada\n",
        "y_teste = base[-(timesteps):] \n",
        "y_teste = y_teste.reshape(-1, timesteps, 1)"
      ],
      "execution_count": 0,
      "outputs": []
    },
    {
      "cell_type": "markdown",
      "metadata": {
        "id": "jnuvtQ7rE6pK",
        "colab_type": "text"
      },
      "source": [
        "### Criando o modelo usando RNN do tensorflow"
      ]
    },
    {
      "cell_type": "code",
      "metadata": {
        "id": "gXPX8jN96xwX",
        "colab_type": "code",
        "colab": {}
      },
      "source": [
        "# Número de nós em cada camada\n",
        "n_input = 1\n",
        "n_hidden = 120\n",
        "n_output = 1\n",
        "\n",
        "# Variaveis de treinamento\n",
        "epocas = 1000\n",
        "n_display = epocas/10\n",
        "\n",
        "tf.reset_default_graph() # Reseta o grafo atual\n",
        "\n",
        "# Criação dos placeholders\n",
        "x = tf.placeholder(tf.float32, [None, timesteps, n_input])\n",
        "y = tf.placeholder(tf.float32, [None, timesteps, n_output])"
      ],
      "execution_count": 0,
      "outputs": []
    },
    {
      "cell_type": "code",
      "metadata": {
        "id": "PrcbS5Oc7Fzv",
        "colab_type": "code",
        "colab": {}
      },
      "source": [
        "# Função para criar uma célula LSTM\n",
        "def inicializarUmaCelula():\n",
        "    return tf.contrib.rnn.LSTMCell(num_units = n_hidden, \n",
        "                                   activation = tf.nn.relu)"
      ],
      "execution_count": 0,
      "outputs": []
    },
    {
      "cell_type": "code",
      "metadata": {
        "id": "cYe-SeKd7IdI",
        "colab_type": "code",
        "colab": {}
      },
      "source": [
        "# Função para criar n células LSTM\n",
        "def inicializarVariasCelulas(n_celulas):\n",
        "    celulas =  tf.nn.rnn_cell.MultiRNNCell(\n",
        "        [inicializarUmaCelula() for i in range(n_celulas)])\n",
        "    \n",
        "    return tf.contrib.rnn.DropoutWrapper(celulas, input_keep_prob = 0.9) # Dropout"
      ],
      "execution_count": 0,
      "outputs": []
    },
    {
      "cell_type": "code",
      "metadata": {
        "id": "N7f1v6Ge7KL7",
        "colab_type": "code",
        "outputId": "2145c238-4f22-4970-957e-bd61b9199095",
        "colab": {
          "base_uri": "https://localhost:8080/",
          "height": 289
        }
      },
      "source": [
        "# Criação das células\n",
        "celula = inicializarVariasCelulas(4) # 3 células\n",
        "celula = tf.contrib.rnn.OutputProjectionWrapper(celula, output_size = 1)"
      ],
      "execution_count": 28,
      "outputs": [
        {
          "output_type": "stream",
          "text": [
            "WARNING: Logging before flag parsing goes to stderr.\n",
            "W0718 23:39:45.162603 139925505931136 lazy_loader.py:50] \n",
            "The TensorFlow contrib module will not be included in TensorFlow 2.0.\n",
            "For more information, please see:\n",
            "  * https://github.com/tensorflow/community/blob/master/rfcs/20180907-contrib-sunset.md\n",
            "  * https://github.com/tensorflow/addons\n",
            "  * https://github.com/tensorflow/io (for I/O related ops)\n",
            "If you depend on functionality not listed there, please file an issue.\n",
            "\n",
            "W0718 23:39:45.164191 139925505931136 deprecation.py:323] From <ipython-input-26-4e5dbf315af5>:3: LSTMCell.__init__ (from tensorflow.python.ops.rnn_cell_impl) is deprecated and will be removed in a future version.\n",
            "Instructions for updating:\n",
            "This class is equivalent as tf.keras.layers.LSTMCell, and will be replaced by that in Tensorflow 2.0.\n",
            "W0718 23:39:45.166006 139925505931136 deprecation.py:323] From <ipython-input-27-210f144cac55>:3: MultiRNNCell.__init__ (from tensorflow.python.ops.rnn_cell_impl) is deprecated and will be removed in a future version.\n",
            "Instructions for updating:\n",
            "This class is equivalent as tf.keras.layers.StackedRNNCells, and will be replaced by that in Tensorflow 2.0.\n"
          ],
          "name": "stderr"
        }
      ]
    },
    {
      "cell_type": "markdown",
      "metadata": {
        "id": "pL9zhYF9FTiz",
        "colab_type": "text"
      },
      "source": [
        "Erros e métricas:\n",
        "O otimizador mais adequado, depois de vários testes, foi o Adam A função de erro escolhida foi a MSE."
      ]
    },
    {
      "cell_type": "code",
      "metadata": {
        "id": "Jh6Rz-7z7amH",
        "colab_type": "code",
        "outputId": "f3be02ec-9fcc-4a5f-bd59-57fad44d8ae2",
        "colab": {
          "base_uri": "https://localhost:8080/",
          "height": 289
        }
      },
      "source": [
        "saida_rnn, _ = tf.nn.dynamic_rnn(celula, x, dtype = tf.float32)\n",
        "erro = tf.losses.mean_squared_error(labels = y, predictions = saida_rnn)\n",
        "otimizador = tf.train.AdamOptimizer(learning_rate = 0.001)\n",
        "treinamento = otimizador.minimize(erro)"
      ],
      "execution_count": 29,
      "outputs": [
        {
          "output_type": "stream",
          "text": [
            "W0718 23:39:48.346348 139925505931136 deprecation.py:323] From <ipython-input-29-1b5ddac7763c>:1: dynamic_rnn (from tensorflow.python.ops.rnn) is deprecated and will be removed in a future version.\n",
            "Instructions for updating:\n",
            "Please use `keras.layers.RNN(cell)`, which is equivalent to this API\n",
            "W0718 23:39:48.852209 139925505931136 deprecation.py:506] From /usr/local/lib/python3.6/dist-packages/tensorflow/python/ops/init_ops.py:1251: calling VarianceScaling.__init__ (from tensorflow.python.ops.init_ops) with dtype is deprecated and will be removed in a future version.\n",
            "Instructions for updating:\n",
            "Call initializer instance with the dtype argument instead of passing it to the constructor\n",
            "W0718 23:39:48.863343 139925505931136 deprecation.py:506] From /usr/local/lib/python3.6/dist-packages/tensorflow/python/ops/rnn_cell_impl.py:961: calling Zeros.__init__ (from tensorflow.python.ops.init_ops) with dtype is deprecated and will be removed in a future version.\n",
            "Instructions for updating:\n",
            "Call initializer instance with the dtype argument instead of passing it to the constructor\n",
            "W0718 23:39:49.507620 139925505931136 deprecation.py:506] From /usr/local/lib/python3.6/dist-packages/tensorflow/contrib/rnn/python/ops/core_rnn_cell.py:104: calling Constant.__init__ (from tensorflow.python.ops.init_ops) with dtype is deprecated and will be removed in a future version.\n",
            "Instructions for updating:\n",
            "Call initializer instance with the dtype argument instead of passing it to the constructor\n",
            "W0718 23:39:49.719334 139925505931136 deprecation.py:323] From /usr/local/lib/python3.6/dist-packages/tensorflow/python/ops/losses/losses_impl.py:121: add_dispatch_support.<locals>.wrapper (from tensorflow.python.ops.array_ops) is deprecated and will be removed in a future version.\n",
            "Instructions for updating:\n",
            "Use tf.where in 2.0, which has the same broadcast rule as np.where\n"
          ],
          "name": "stderr"
        }
      ]
    },
    {
      "cell_type": "code",
      "metadata": {
        "id": "1P-Bz82I7c8Z",
        "colab_type": "code",
        "colab": {}
      },
      "source": [
        "# Inicializando variáveis globais\n",
        "init = tf.global_variables_initializer()"
      ],
      "execution_count": 0,
      "outputs": []
    },
    {
      "cell_type": "markdown",
      "metadata": {
        "id": "hphC8D0lFqVw",
        "colab_type": "text"
      },
      "source": [
        "\n",
        "Sessão de treinamento:"
      ]
    },
    {
      "cell_type": "code",
      "metadata": {
        "id": "JVHDJUYU7kxR",
        "colab_type": "code",
        "outputId": "68d5a457-8011-4196-e38a-c1016dcb98f3",
        "colab": {
          "base_uri": "https://localhost:8080/",
          "height": 202
        }
      },
      "source": [
        "with tf.Session() as sess:\n",
        "    sess.run(init)\n",
        "    \n",
        "    for epoca in range(epocas+1):\n",
        "        _, custo = sess.run([treinamento, erro], \n",
        "                            feed_dict = {x: X_batches, y: y_batches})\n",
        "        if epoca % n_display == 0:\n",
        "            print('Epoca:', epoca, '\\terro (MSE):', custo)\n",
        "    \n",
        "    previsoes = sess.run(saida_rnn, feed_dict = {x: X_teste})\n"
      ],
      "execution_count": 31,
      "outputs": [
        {
          "output_type": "stream",
          "text": [
            "Epoca: 0 \terro (MSE): 0.0003010869\n",
            "Epoca: 100 \terro (MSE): 0.0002802305\n",
            "Epoca: 200 \terro (MSE): 0.00027679664\n",
            "Epoca: 300 \terro (MSE): 0.00027293494\n",
            "Epoca: 400 \terro (MSE): 0.00026633256\n",
            "Epoca: 500 \terro (MSE): 0.00026136046\n",
            "Epoca: 600 \terro (MSE): 0.0002592967\n",
            "Epoca: 700 \terro (MSE): 0.00025744445\n",
            "Epoca: 800 \terro (MSE): 0.00025650387\n",
            "Epoca: 900 \terro (MSE): 0.00025569304\n",
            "Epoca: 1000 \terro (MSE): 0.00025452196\n"
          ],
          "name": "stdout"
        }
      ]
    },
    {
      "cell_type": "markdown",
      "metadata": {
        "id": "8e6qk-pgFt2i",
        "colab_type": "text"
      },
      "source": [
        "Repare que o erro é bem pequeno devido à normalização"
      ]
    },
    {
      "cell_type": "markdown",
      "metadata": {
        "id": "sMeNVuXxNmg6",
        "colab_type": "text"
      },
      "source": [
        "### Resultados"
      ]
    },
    {
      "cell_type": "markdown",
      "metadata": {
        "id": "d425Tw2SNqrL",
        "colab_type": "text"
      },
      "source": [
        "Como essas variáveis estão no shape do tensorflow (3 dimensões), é necessário usar o método ravel para mudar suas dimensões."
      ]
    },
    {
      "cell_type": "code",
      "metadata": {
        "id": "N2LhWb5k8t15",
        "colab_type": "code",
        "colab": {
          "base_uri": "https://localhost:8080/",
          "height": 50
        },
        "outputId": "a7580467-1fed-4ebf-eeca-abae96ac88fe"
      },
      "source": [
        "y_teste_normal = np.ravel(y_teste)\n",
        "print(y_teste.shape)\n",
        "print(y_teste_normal.shape)"
      ],
      "execution_count": 32,
      "outputs": [
        {
          "output_type": "stream",
          "text": [
            "(1, 20, 1)\n",
            "(20,)\n"
          ],
          "name": "stdout"
        }
      ]
    },
    {
      "cell_type": "code",
      "metadata": {
        "id": "NVmDQx408zzo",
        "colab_type": "code",
        "colab": {
          "base_uri": "https://localhost:8080/",
          "height": 50
        },
        "outputId": "f4cb5fc3-e346-47f3-c36b-d43eae9fe400"
      },
      "source": [
        "previsoes_normal = np.ravel(previsoes)\n",
        "print(previsoes.shape)\n",
        "print(previsoes_normal.shape)"
      ],
      "execution_count": 33,
      "outputs": [
        {
          "output_type": "stream",
          "text": [
            "(1, 20, 1)\n",
            "(20,)\n"
          ],
          "name": "stdout"
        }
      ]
    },
    {
      "cell_type": "markdown",
      "metadata": {
        "id": "Brqf8vgcNvE-",
        "colab_type": "text"
      },
      "source": [
        "As previsões devem ser desnormalizadas para comparar com y_teste"
      ]
    },
    {
      "cell_type": "code",
      "metadata": {
        "id": "hMmMHrJhEqEu",
        "colab_type": "code",
        "colab": {}
      },
      "source": [
        "previsoes_normal = previsoes_normal.reshape(-1,1) \n",
        "previsoes_normal = normalizador.inverse_transform(previsoes_normal)\n",
        "previsoes_normal = np.squeeze(previsoes_normal) \n",
        "# Para melhor visualização no print"
      ],
      "execution_count": 0,
      "outputs": []
    },
    {
      "cell_type": "markdown",
      "metadata": {
        "id": "VHKjzJUaNyua",
        "colab_type": "text"
      },
      "source": [
        "A métrica Mean Absolute Error informa a diferença do valor real com o valor previsto, que é bom para verificar a acurácia do modelo."
      ]
    },
    {
      "cell_type": "code",
      "metadata": {
        "id": "o6r0bqX484mQ",
        "colab_type": "code",
        "colab": {}
      },
      "source": [
        "mae = mean_absolute_error(y_teste_normal, previsoes_normal)"
      ],
      "execution_count": 0,
      "outputs": []
    },
    {
      "cell_type": "code",
      "metadata": {
        "id": "zp_g4yr587rT",
        "colab_type": "code",
        "colab": {}
      },
      "source": [
        "def exibirResultados():\n",
        "    for i in range(len(previsoes_normal)):\n",
        "        print('Previsão:', previsoes_normal[i], '\\tValor real:', \n",
        "              y_teste_normal[i])\n",
        "    \n",
        "    print()\n",
        "    print('Media do erro absoluto:', round(mae,4))"
      ],
      "execution_count": 0,
      "outputs": []
    },
    {
      "cell_type": "markdown",
      "metadata": {
        "id": "0Mtp3_rNN02i",
        "colab_type": "text"
      },
      "source": [
        "A função exibe um resumo dos resultados obtidos"
      ]
    },
    {
      "cell_type": "code",
      "metadata": {
        "id": "wHCkgvHX8-73",
        "colab_type": "code",
        "colab": {
          "base_uri": "https://localhost:8080/",
          "height": 386
        },
        "outputId": "d44976a0-6c0a-4efe-9556-2b3e6fcd2fe5"
      },
      "source": [
        "exibirResultados()"
      ],
      "execution_count": 37,
      "outputs": [
        {
          "output_type": "stream",
          "text": [
            "Previsão: 1446669.9 \tValor real: 20185.23\n",
            "Previsão: 1349057.0 \tValor real: 548690.97\n",
            "Previsão: 1577850.1 \tValor real: 425622.38\n",
            "Previsão: 1574591.6 \tValor real: 0.0\n",
            "Previsão: 1354571.4 \tValor real: 0.0\n",
            "Previsão: 1260199.0 \tValor real: 0.0\n",
            "Previsão: 1198054.1 \tValor real: 6599.0\n",
            "Previsão: 1177470.6 \tValor real: 37251.0\n",
            "Previsão: 1172019.2 \tValor real: 2829.0\n",
            "Previsão: 1133464.1 \tValor real: 98.0\n",
            "Previsão: 1091483.9 \tValor real: 230.0\n",
            "Previsão: 1044791.06 \tValor real: 816832.0\n",
            "Previsão: 1448718.5 \tValor real: 1699952.16\n",
            "Previsão: 1960073.8 \tValor real: 1095668.87\n",
            "Previsão: 1738372.8 \tValor real: 1218673.0\n",
            "Previsão: 1666741.2 \tValor real: 117934.3\n",
            "Previsão: 1053673.0 \tValor real: 0.0\n",
            "Previsão: 894799.1 \tValor real: 0.0\n",
            "Previsão: 880602.1 \tValor real: 109868.65\n",
            "Previsão: 956764.25 \tValor real: 5000.0\n",
            "\n",
            "Media do erro absoluto: 1018849.9786\n"
          ],
          "name": "stdout"
        }
      ]
    },
    {
      "cell_type": "markdown",
      "metadata": {
        "id": "N4D1WZbRN4TZ",
        "colab_type": "text"
      },
      "source": [
        "### Visualização do gráfico"
      ]
    },
    {
      "cell_type": "code",
      "metadata": {
        "id": "R2qBFGuo9I9o",
        "colab_type": "code",
        "colab": {
          "base_uri": "https://localhost:8080/",
          "height": 269
        },
        "outputId": "c9a3e689-23bf-4d6d-ddef-b8d35ef6e282"
      },
      "source": [
        "plt.plot(y_teste_normal, label = 'Valor real')\n",
        "plt.plot(previsoes_normal, label = 'Previsões')\n",
        "plt.legend()\n",
        "plt.savefig(os.path.join('train_vis_BS__'+time.ctime()+'.png'))\n"
      ],
      "execution_count": 38,
      "outputs": [
        {
          "output_type": "display_data",
          "data": {
            "image/png": "[encoded data removed]",
            "text/plain": [
              "<Figure size 432x288 with 1 Axes>"
            ]
          },
          "metadata": {
            "tags": []
          }
        }
      ]
    },
    {
      "cell_type": "markdown",
      "metadata": {
        "id": "HJ1LC52tN8F1",
        "colab_type": "text"
      },
      "source": [
        "A previsão tem um comportamento parecido com ao valor real, porem existem um descompaso muito grande entre os modulos em cada ponto, o que leva a um erro muito alto"
      ]
    },
    {
      "cell_type": "markdown",
      "metadata": {
        "id": "M1MKPNKhpiSP",
        "colab_type": "text"
      },
      "source": [
        "## Para categorizar os clientes é necessario categorizar o tipo de transação que foi feita em Debit, Credit ou Default"
      ]
    },
    {
      "cell_type": "code",
      "metadata": {
        "id": "D1dJtcQEEULb",
        "colab_type": "code",
        "colab": {
          "base_uri": "https://localhost:8080/",
          "height": 195
        },
        "outputId": "ee1cfee3-e3f4-41dd-bb27-30c4ac2a6ea1"
      },
      "source": [
        "df_ge.tail()"
      ],
      "execution_count": 39,
      "outputs": [
        {
          "output_type": "execute_result",
          "data": {
            "text/html": [
              "<div>\n",
              "<style scoped>\n",
              "    .dataframe tbody tr th:only-of-type {\n",
              "        vertical-align: middle;\n",
              "    }\n",
              "\n",
              "    .dataframe tbody tr th {\n",
              "        vertical-align: top;\n",
              "    }\n",
              "\n",
              "    .dataframe thead th {\n",
              "        text-align: right;\n",
              "    }\n",
              "</style>\n",
              "<table border=\"1\" class=\"dataframe\">\n",
              "  <thead>\n",
              "    <tr style=\"text-align: right;\">\n",
              "      <th></th>\n",
              "      <th>Account No</th>\n",
              "      <th>DATE</th>\n",
              "      <th>TRANSACTION DETAILS</th>\n",
              "      <th>CHQ.NO.</th>\n",
              "      <th>VALUE DATE</th>\n",
              "      <th>WITHDRAWAL AMT</th>\n",
              "      <th>DEPOSIT AMT</th>\n",
              "      <th>BALANCE AMT</th>\n",
              "      <th>.</th>\n",
              "    </tr>\n",
              "  </thead>\n",
              "  <tbody>\n",
              "    <tr>\n",
              "      <th>116196</th>\n",
              "      <td>409000362497'</td>\n",
              "      <td>2019-03-05</td>\n",
              "      <td>TRF TO 1196428  Indiaforensic SE</td>\n",
              "      <td>NaN</td>\n",
              "      <td>2019-03-05</td>\n",
              "      <td>117934.30</td>\n",
              "      <td>NaN</td>\n",
              "      <td>-1.901902e+09</td>\n",
              "      <td>.</td>\n",
              "    </tr>\n",
              "    <tr>\n",
              "      <th>116197</th>\n",
              "      <td>409000362497'</td>\n",
              "      <td>2019-03-05</td>\n",
              "      <td>FDRL/INTERNAL FUND TRANSFE</td>\n",
              "      <td>NaN</td>\n",
              "      <td>2019-03-05</td>\n",
              "      <td>0.00</td>\n",
              "      <td>300000.0</td>\n",
              "      <td>-1.901602e+09</td>\n",
              "      <td>.</td>\n",
              "    </tr>\n",
              "    <tr>\n",
              "      <th>116198</th>\n",
              "      <td>409000362497'</td>\n",
              "      <td>2019-03-05</td>\n",
              "      <td>FDRL/INTERNAL FUND TRANSFE</td>\n",
              "      <td>NaN</td>\n",
              "      <td>2019-03-05</td>\n",
              "      <td>0.00</td>\n",
              "      <td>300000.0</td>\n",
              "      <td>-1.901302e+09</td>\n",
              "      <td>.</td>\n",
              "    </tr>\n",
              "    <tr>\n",
              "      <th>116199</th>\n",
              "      <td>409000362497'</td>\n",
              "      <td>2019-03-05</td>\n",
              "      <td>IMPS 05-03-20194C</td>\n",
              "      <td>NaN</td>\n",
              "      <td>2019-03-05</td>\n",
              "      <td>109868.65</td>\n",
              "      <td>NaN</td>\n",
              "      <td>-1.901412e+09</td>\n",
              "      <td>.</td>\n",
              "    </tr>\n",
              "    <tr>\n",
              "      <th>116200</th>\n",
              "      <td>409000362497'</td>\n",
              "      <td>2019-03-05</td>\n",
              "      <td>Sweep Trf To: 40900036427</td>\n",
              "      <td>NaN</td>\n",
              "      <td>2019-03-05</td>\n",
              "      <td>5000.00</td>\n",
              "      <td>NaN</td>\n",
              "      <td>-1.901417e+09</td>\n",
              "      <td>.</td>\n",
              "    </tr>\n",
              "  </tbody>\n",
              "</table>\n",
              "</div>"
            ],
            "text/plain": [
              "           Account No       DATE  ...   BALANCE AMT  .\n",
              "116196  409000362497' 2019-03-05  ... -1.901902e+09  .\n",
              "116197  409000362497' 2019-03-05  ... -1.901602e+09  .\n",
              "116198  409000362497' 2019-03-05  ... -1.901302e+09  .\n",
              "116199  409000362497' 2019-03-05  ... -1.901412e+09  .\n",
              "116200  409000362497' 2019-03-05  ... -1.901417e+09  .\n",
              "\n",
              "[5 rows x 9 columns]"
            ]
          },
          "metadata": {
            "tags": []
          },
          "execution_count": 39
        }
      ]
    },
    {
      "cell_type": "markdown",
      "metadata": {
        "id": "0UprypyApwxT",
        "colab_type": "text"
      },
      "source": [
        "Transformando os valores em lista para fazer uma varredurar usando fors"
      ]
    },
    {
      "cell_type": "code",
      "metadata": {
        "id": "vS0YSBhnhxyN",
        "colab_type": "code",
        "colab": {
          "base_uri": "https://localhost:8080/",
          "height": 34
        },
        "outputId": "24ac1b38-c544-4a27-9966-63a06f45152e"
      },
      "source": [
        "rows = df_ge.values.tolist()\n",
        "rows[116199][2]"
      ],
      "execution_count": 40,
      "outputs": [
        {
          "output_type": "execute_result",
          "data": {
            "text/plain": [
              "'IMPS 05-03-20194C'"
            ]
          },
          "metadata": {
            "tags": []
          },
          "execution_count": 40
        }
      ]
    },
    {
      "cell_type": "code",
      "metadata": {
        "id": "W-6EbHtIZa5r",
        "colab_type": "code",
        "colab": {}
      },
      "source": [
        "# Vericando se n existem um balanco vazio na lista\n",
        "# PS: Já verificado no dataframe do pandas\n",
        "\n",
        "headers = []\n",
        "\n",
        "for row in rows:\n",
        "    if row[7] == 'nan':\n",
        "        headers.append(rows)\n",
        "    else:\n",
        "        break\n",
        "\n",
        "valid_transactions = []  \n",
        "\n",
        "for row in rows:\n",
        "    if row not in headers:\n",
        "        valid_transactions.append(row)"
      ],
      "execution_count": 0,
      "outputs": []
    },
    {
      "cell_type": "code",
      "metadata": {
        "id": "-AsKlQi4eMOE",
        "colab_type": "code",
        "colab": {
          "base_uri": "https://localhost:8080/",
          "height": 34
        },
        "outputId": "7c52c064-f13e-404f-cf48-c3f17823e25b"
      },
      "source": [
        "len(valid_transactions)"
      ],
      "execution_count": 42,
      "outputs": [
        {
          "output_type": "execute_result",
          "data": {
            "text/plain": [
              "116201"
            ]
          },
          "metadata": {
            "tags": []
          },
          "execution_count": 42
        }
      ]
    },
    {
      "cell_type": "code",
      "metadata": {
        "id": "2-Yxv2FYkI-3",
        "colab_type": "code",
        "colab": {
          "base_uri": "https://localhost:8080/",
          "height": 168
        },
        "outputId": "0a851cf3-0514-43f2-bdd6-53fc3f06d6b8"
      },
      "source": [
        "# Iniciando os valores \n",
        "transactions = []                 # lista para guarda os valores da transação\n",
        "d_i = 1        # da data\n",
        "p_i = 2  # posição dos detalhes de transição\n",
        "\n",
        "# iterate over all transactions\n",
        "for v_t in valid_transactions:\n",
        "    if v_t[d_i] is not None:\n",
        "        transactions.append(v_t)\n",
        "    \n",
        "    else:\n",
        "        transactions[-1][p_i] += v_t[p_i]\n",
        "        \n",
        "transactions[1]"
      ],
      "execution_count": 43,
      "outputs": [
        {
          "output_type": "execute_result",
          "data": {
            "text/plain": [
              "[\"409000611074'\",\n",
              " Timestamp('2017-07-05 00:00:00'),\n",
              " 'TRF FROM  Indiaforensic SERVICES',\n",
              " nan,\n",
              " Timestamp('2017-07-05 00:00:00'),\n",
              " 0.0,\n",
              " 1000000.0,\n",
              " 2000000.0,\n",
              " '.']"
            ]
          },
          "metadata": {
            "tags": []
          },
          "execution_count": 43
        }
      ]
    },
    {
      "cell_type": "code",
      "metadata": {
        "id": "7XdS6z5YmjrX",
        "colab_type": "code",
        "colab": {}
      },
      "source": [
        "# Posições na lista\n",
        "w_i = 5  # posiçao do withdrawal\n",
        "d_i = 6  # posição do deposito    \n",
        "b_i = 7  # posição do balanco   \n",
        "is_negative = False              \n",
        "final_result = []                \n",
        "# final_result = [][1]'withdrawal'\n",
        "# final_result = [][0]'Type'\n",
        "# 1.00 - debito\n",
        "# -1.00 - credito\n",
        "# 0 - default\n",
        "\n",
        "# Faz interação sob todaas as transações para fazer a classificação dos valores \n",
        "for transaction in transactions:\n",
        "    if transaction[w_i] > 00.00 and transaction[b_i] < 00.00:\n",
        "        if is_negative:\n",
        "            final_result[-1][8] = 1.00\n",
        "        \n",
        "        is_negative = True\n",
        "        transaction[0] = 0\n",
        "        final_result.append(transaction)\n",
        "\n",
        "        continue\n",
        "    \n",
        "    elif is_negative:\n",
        "        if transaction[d_i] == final_result[-1][5]:\n",
        "            transaction[8] = 0\n",
        "    \n",
        "        else:\n",
        "            final_result[-1][8] = 1.00\n",
        "        \n",
        "            if transaction[w_i] > 00.00 and transaction[b_i] < 00.00:\n",
        "                is_negative = True\n",
        "                transaction[8] = 0\n",
        "                final_result.append(tran)\n",
        "            \n",
        "                continue\n",
        "            \n",
        "            # debito\n",
        "            elif transaction[w_i] > 00.00:\n",
        "                transaction[8] = 1.00\n",
        "            \n",
        "            # credito\n",
        "            elif transaction[d_i] > 00.00:\n",
        "                transaction[8] = -1.00\n",
        "    \n",
        "    # debito\n",
        "    elif transaction[w_i] > 00.00:\n",
        "        transaction[8] = 1.00\n",
        "    \n",
        "    # credito\n",
        "    elif transaction[d_i] > 00.00:\n",
        "        transaction[8] = -1.00\n",
        "    \n",
        "    is_negative = False\n",
        "    final_result.append(transaction)"
      ],
      "execution_count": 0,
      "outputs": []
    },
    {
      "cell_type": "code",
      "metadata": {
        "id": "ugOjLjh2myAK",
        "colab_type": "code",
        "colab": {
          "base_uri": "https://localhost:8080/",
          "height": 34
        },
        "outputId": "6ee7451c-ce31-4b9a-98fa-022ad0bfebcf"
      },
      "source": [
        "len(final_result)"
      ],
      "execution_count": 45,
      "outputs": [
        {
          "output_type": "execute_result",
          "data": {
            "text/plain": [
              "116201"
            ]
          },
          "metadata": {
            "tags": []
          },
          "execution_count": 45
        }
      ]
    },
    {
      "cell_type": "code",
      "metadata": {
        "id": "yy_Rs7Cuy2yB",
        "colab_type": "code",
        "colab": {}
      },
      "source": [
        "df = pd.DataFrame(np.array(final_result), \\\n",
        "                  columns = list(\n",
        "    ['AccountNo', 'DATE', 'TRANSACTION DETAILS',\n",
        "     'CHQ.NO', 'VALUE DATE', 'WITHDRAWAL AMT', \n",
        "     'DEPOSIT AMT', 'BALANCE AMT', 'Type']))"
      ],
      "execution_count": 0,
      "outputs": []
    },
    {
      "cell_type": "code",
      "metadata": {
        "id": "CLPtLrYC2z3W",
        "colab_type": "code",
        "colab": {
          "base_uri": "https://localhost:8080/",
          "height": 296
        },
        "outputId": "3af11261-7e2f-4933-aec6-96b839626913"
      },
      "source": [
        "df.head()"
      ],
      "execution_count": 47,
      "outputs": [
        {
          "output_type": "execute_result",
          "data": {
            "text/html": [
              "<div>\n",
              "<style scoped>\n",
              "    .dataframe tbody tr th:only-of-type {\n",
              "        vertical-align: middle;\n",
              "    }\n",
              "\n",
              "    .dataframe tbody tr th {\n",
              "        vertical-align: top;\n",
              "    }\n",
              "\n",
              "    .dataframe thead th {\n",
              "        text-align: right;\n",
              "    }\n",
              "</style>\n",
              "<table border=\"1\" class=\"dataframe\">\n",
              "  <thead>\n",
              "    <tr style=\"text-align: right;\">\n",
              "      <th></th>\n",
              "      <th>AccountNo</th>\n",
              "      <th>DATE</th>\n",
              "      <th>TRANSACTION DETAILS</th>\n",
              "      <th>CHQ.NO</th>\n",
              "      <th>VALUE DATE</th>\n",
              "      <th>WITHDRAWAL AMT</th>\n",
              "      <th>DEPOSIT AMT</th>\n",
              "      <th>BALANCE AMT</th>\n",
              "      <th>Type</th>\n",
              "    </tr>\n",
              "  </thead>\n",
              "  <tbody>\n",
              "    <tr>\n",
              "      <th>0</th>\n",
              "      <td>409000611074'</td>\n",
              "      <td>2017-06-29 00:00:00</td>\n",
              "      <td>TRF FROM  Indiaforensic SERVICES</td>\n",
              "      <td>NaN</td>\n",
              "      <td>2017-06-29 00:00:00</td>\n",
              "      <td>0</td>\n",
              "      <td>1e+06</td>\n",
              "      <td>1e+06</td>\n",
              "      <td>-1</td>\n",
              "    </tr>\n",
              "    <tr>\n",
              "      <th>1</th>\n",
              "      <td>409000611074'</td>\n",
              "      <td>2017-07-05 00:00:00</td>\n",
              "      <td>TRF FROM  Indiaforensic SERVICES</td>\n",
              "      <td>NaN</td>\n",
              "      <td>2017-07-05 00:00:00</td>\n",
              "      <td>0</td>\n",
              "      <td>1e+06</td>\n",
              "      <td>2e+06</td>\n",
              "      <td>-1</td>\n",
              "    </tr>\n",
              "    <tr>\n",
              "      <th>2</th>\n",
              "      <td>409000611074'</td>\n",
              "      <td>2017-07-18 00:00:00</td>\n",
              "      <td>FDRL/INTERNAL FUND TRANSFE</td>\n",
              "      <td>NaN</td>\n",
              "      <td>2017-07-18 00:00:00</td>\n",
              "      <td>0</td>\n",
              "      <td>500000</td>\n",
              "      <td>2.5e+06</td>\n",
              "      <td>-1</td>\n",
              "    </tr>\n",
              "    <tr>\n",
              "      <th>3</th>\n",
              "      <td>409000611074'</td>\n",
              "      <td>2017-08-01 00:00:00</td>\n",
              "      <td>TRF FRM  Indiaforensic SERVICES</td>\n",
              "      <td>NaN</td>\n",
              "      <td>2017-08-01 00:00:00</td>\n",
              "      <td>0</td>\n",
              "      <td>3e+06</td>\n",
              "      <td>5.5e+06</td>\n",
              "      <td>-1</td>\n",
              "    </tr>\n",
              "    <tr>\n",
              "      <th>4</th>\n",
              "      <td>409000611074'</td>\n",
              "      <td>2017-08-16 00:00:00</td>\n",
              "      <td>FDRL/INTERNAL FUND TRANSFE</td>\n",
              "      <td>NaN</td>\n",
              "      <td>2017-08-16 00:00:00</td>\n",
              "      <td>0</td>\n",
              "      <td>500000</td>\n",
              "      <td>6e+06</td>\n",
              "      <td>-1</td>\n",
              "    </tr>\n",
              "  </tbody>\n",
              "</table>\n",
              "</div>"
            ],
            "text/plain": [
              "       AccountNo                 DATE  ... BALANCE AMT Type\n",
              "0  409000611074'  2017-06-29 00:00:00  ...       1e+06   -1\n",
              "1  409000611074'  2017-07-05 00:00:00  ...       2e+06   -1\n",
              "2  409000611074'  2017-07-18 00:00:00  ...     2.5e+06   -1\n",
              "3  409000611074'  2017-08-01 00:00:00  ...     5.5e+06   -1\n",
              "4  409000611074'  2017-08-16 00:00:00  ...       6e+06   -1\n",
              "\n",
              "[5 rows x 9 columns]"
            ]
          },
          "metadata": {
            "tags": []
          },
          "execution_count": 47
        }
      ]
    },
    {
      "cell_type": "code",
      "metadata": {
        "id": "5vhRQUoT_Zqi",
        "colab_type": "code",
        "colab": {
          "base_uri": "https://localhost:8080/",
          "height": 195
        },
        "outputId": "2c1c2348-2ce4-4b71-fcde-342b1ac9fbcd"
      },
      "source": [
        "df.set_index([\"AccountNo\", \"Type\"]).count(level=\"Type\")"
      ],
      "execution_count": 48,
      "outputs": [
        {
          "output_type": "execute_result",
          "data": {
            "text/html": [
              "<div>\n",
              "<style scoped>\n",
              "    .dataframe tbody tr th:only-of-type {\n",
              "        vertical-align: middle;\n",
              "    }\n",
              "\n",
              "    .dataframe tbody tr th {\n",
              "        vertical-align: top;\n",
              "    }\n",
              "\n",
              "    .dataframe thead th {\n",
              "        text-align: right;\n",
              "    }\n",
              "</style>\n",
              "<table border=\"1\" class=\"dataframe\">\n",
              "  <thead>\n",
              "    <tr style=\"text-align: right;\">\n",
              "      <th></th>\n",
              "      <th>DATE</th>\n",
              "      <th>TRANSACTION DETAILS</th>\n",
              "      <th>CHQ.NO</th>\n",
              "      <th>VALUE DATE</th>\n",
              "      <th>WITHDRAWAL AMT</th>\n",
              "      <th>DEPOSIT AMT</th>\n",
              "      <th>BALANCE AMT</th>\n",
              "    </tr>\n",
              "    <tr>\n",
              "      <th>Type</th>\n",
              "      <th></th>\n",
              "      <th></th>\n",
              "      <th></th>\n",
              "      <th></th>\n",
              "      <th></th>\n",
              "      <th></th>\n",
              "      <th></th>\n",
              "    </tr>\n",
              "  </thead>\n",
              "  <tbody>\n",
              "    <tr>\n",
              "      <th>-1.0</th>\n",
              "      <td>62493</td>\n",
              "      <td>59994</td>\n",
              "      <td>0</td>\n",
              "      <td>62493</td>\n",
              "      <td>62493</td>\n",
              "      <td>62493</td>\n",
              "      <td>62493</td>\n",
              "    </tr>\n",
              "    <tr>\n",
              "      <th>0</th>\n",
              "      <td>159</td>\n",
              "      <td>159</td>\n",
              "      <td>0</td>\n",
              "      <td>159</td>\n",
              "      <td>159</td>\n",
              "      <td>159</td>\n",
              "      <td>159</td>\n",
              "    </tr>\n",
              "    <tr>\n",
              "      <th>1.0</th>\n",
              "      <td>53389</td>\n",
              "      <td>53389</td>\n",
              "      <td>901</td>\n",
              "      <td>53389</td>\n",
              "      <td>53389</td>\n",
              "      <td>0</td>\n",
              "      <td>53389</td>\n",
              "    </tr>\n",
              "    <tr>\n",
              "      <th>.</th>\n",
              "      <td>160</td>\n",
              "      <td>160</td>\n",
              "      <td>4</td>\n",
              "      <td>160</td>\n",
              "      <td>160</td>\n",
              "      <td>0</td>\n",
              "      <td>160</td>\n",
              "    </tr>\n",
              "  </tbody>\n",
              "</table>\n",
              "</div>"
            ],
            "text/plain": [
              "       DATE  TRANSACTION DETAILS  ...  DEPOSIT AMT  BALANCE AMT\n",
              "Type                              ...                          \n",
              "-1.0  62493                59994  ...        62493        62493\n",
              "0       159                  159  ...          159          159\n",
              "1.0   53389                53389  ...            0        53389\n",
              ".       160                  160  ...            0          160\n",
              "\n",
              "[4 rows x 7 columns]"
            ]
          },
          "metadata": {
            "tags": []
          },
          "execution_count": 48
        }
      ]
    },
    {
      "cell_type": "code",
      "metadata": {
        "id": "BLUdyV2zCxdW",
        "colab_type": "code",
        "colab": {
          "base_uri": "https://localhost:8080/",
          "height": 402
        },
        "outputId": "2c4660a8-45b2-4b38-96d4-11e181c2e27f"
      },
      "source": [
        "df.groupby('AccountNo')['Type'].describe()"
      ],
      "execution_count": 49,
      "outputs": [
        {
          "output_type": "execute_result",
          "data": {
            "text/html": [
              "<div>\n",
              "<style scoped>\n",
              "    .dataframe tbody tr th:only-of-type {\n",
              "        vertical-align: middle;\n",
              "    }\n",
              "\n",
              "    .dataframe tbody tr th {\n",
              "        vertical-align: top;\n",
              "    }\n",
              "\n",
              "    .dataframe thead th {\n",
              "        text-align: right;\n",
              "    }\n",
              "</style>\n",
              "<table border=\"1\" class=\"dataframe\">\n",
              "  <thead>\n",
              "    <tr style=\"text-align: right;\">\n",
              "      <th></th>\n",
              "      <th>count</th>\n",
              "      <th>unique</th>\n",
              "      <th>top</th>\n",
              "      <th>freq</th>\n",
              "    </tr>\n",
              "    <tr>\n",
              "      <th>AccountNo</th>\n",
              "      <th></th>\n",
              "      <th></th>\n",
              "      <th></th>\n",
              "      <th></th>\n",
              "    </tr>\n",
              "  </thead>\n",
              "  <tbody>\n",
              "    <tr>\n",
              "      <th>0</th>\n",
              "      <td>52176.0</td>\n",
              "      <td>2.0</td>\n",
              "      <td>1.0</td>\n",
              "      <td>52016.0</td>\n",
              "    </tr>\n",
              "    <tr>\n",
              "      <th>1196428'</th>\n",
              "      <td>32092.0</td>\n",
              "      <td>2.0</td>\n",
              "      <td>-1.0</td>\n",
              "      <td>32018.0</td>\n",
              "    </tr>\n",
              "    <tr>\n",
              "      <th>1196711'</th>\n",
              "      <td>5511.0</td>\n",
              "      <td>2.0</td>\n",
              "      <td>-1.0</td>\n",
              "      <td>5451.0</td>\n",
              "    </tr>\n",
              "    <tr>\n",
              "      <th>409000362497'</th>\n",
              "      <td>14363.0</td>\n",
              "      <td>2.0</td>\n",
              "      <td>-1.0</td>\n",
              "      <td>14360.0</td>\n",
              "    </tr>\n",
              "    <tr>\n",
              "      <th>409000405747'</th>\n",
              "      <td>23.0</td>\n",
              "      <td>2.0</td>\n",
              "      <td>-1.0</td>\n",
              "      <td>21.0</td>\n",
              "    </tr>\n",
              "    <tr>\n",
              "      <th>409000425051'</th>\n",
              "      <td>794.0</td>\n",
              "      <td>3.0</td>\n",
              "      <td>-1.0</td>\n",
              "      <td>773.0</td>\n",
              "    </tr>\n",
              "    <tr>\n",
              "      <th>409000438611'</th>\n",
              "      <td>3255.0</td>\n",
              "      <td>2.0</td>\n",
              "      <td>-1.0</td>\n",
              "      <td>3254.0</td>\n",
              "    </tr>\n",
              "    <tr>\n",
              "      <th>409000438620'</th>\n",
              "      <td>5063.0</td>\n",
              "      <td>2.0</td>\n",
              "      <td>-1.0</td>\n",
              "      <td>5058.0</td>\n",
              "    </tr>\n",
              "    <tr>\n",
              "      <th>409000493201'</th>\n",
              "      <td>1044.0</td>\n",
              "      <td>2.0</td>\n",
              "      <td>1.0</td>\n",
              "      <td>575.0</td>\n",
              "    </tr>\n",
              "    <tr>\n",
              "      <th>409000493210'</th>\n",
              "      <td>787.0</td>\n",
              "      <td>2.0</td>\n",
              "      <td>-1.0</td>\n",
              "      <td>774.0</td>\n",
              "    </tr>\n",
              "    <tr>\n",
              "      <th>409000611074'</th>\n",
              "      <td>1093.0</td>\n",
              "      <td>2.0</td>\n",
              "      <td>1.0</td>\n",
              "      <td>778.0</td>\n",
              "    </tr>\n",
              "  </tbody>\n",
              "</table>\n",
              "</div>"
            ],
            "text/plain": [
              "                 count  unique  top     freq\n",
              "AccountNo                                   \n",
              "0              52176.0     2.0  1.0  52016.0\n",
              "1196428'       32092.0     2.0 -1.0  32018.0\n",
              "1196711'        5511.0     2.0 -1.0   5451.0\n",
              "409000362497'  14363.0     2.0 -1.0  14360.0\n",
              "409000405747'     23.0     2.0 -1.0     21.0\n",
              "409000425051'    794.0     3.0 -1.0    773.0\n",
              "409000438611'   3255.0     2.0 -1.0   3254.0\n",
              "409000438620'   5063.0     2.0 -1.0   5058.0\n",
              "409000493201'   1044.0     2.0  1.0    575.0\n",
              "409000493210'    787.0     2.0 -1.0    774.0\n",
              "409000611074'   1093.0     2.0  1.0    778.0"
            ]
          },
          "metadata": {
            "tags": []
          },
          "execution_count": 49
        }
      ]
    },
    {
      "cell_type": "code",
      "metadata": {
        "id": "n-44FFM0EaOL",
        "colab_type": "code",
        "colab": {
          "base_uri": "https://localhost:8080/",
          "height": 195
        },
        "outputId": "a1cfa215-5368-4dcf-8792-d4fb7c4cde30"
      },
      "source": [
        "df.groupby('Type')['AccountNo'].describe()"
      ],
      "execution_count": 50,
      "outputs": [
        {
          "output_type": "execute_result",
          "data": {
            "text/html": [
              "<div>\n",
              "<style scoped>\n",
              "    .dataframe tbody tr th:only-of-type {\n",
              "        vertical-align: middle;\n",
              "    }\n",
              "\n",
              "    .dataframe tbody tr th {\n",
              "        vertical-align: top;\n",
              "    }\n",
              "\n",
              "    .dataframe thead th {\n",
              "        text-align: right;\n",
              "    }\n",
              "</style>\n",
              "<table border=\"1\" class=\"dataframe\">\n",
              "  <thead>\n",
              "    <tr style=\"text-align: right;\">\n",
              "      <th></th>\n",
              "      <th>count</th>\n",
              "      <th>unique</th>\n",
              "      <th>top</th>\n",
              "      <th>freq</th>\n",
              "    </tr>\n",
              "    <tr>\n",
              "      <th>Type</th>\n",
              "      <th></th>\n",
              "      <th></th>\n",
              "      <th></th>\n",
              "      <th></th>\n",
              "    </tr>\n",
              "  </thead>\n",
              "  <tbody>\n",
              "    <tr>\n",
              "      <th>-1.0</th>\n",
              "      <td>62493</td>\n",
              "      <td>10</td>\n",
              "      <td>1196428'</td>\n",
              "      <td>32018</td>\n",
              "    </tr>\n",
              "    <tr>\n",
              "      <th>0</th>\n",
              "      <td>159</td>\n",
              "      <td>8</td>\n",
              "      <td>1196428'</td>\n",
              "      <td>74</td>\n",
              "    </tr>\n",
              "    <tr>\n",
              "      <th>1.0</th>\n",
              "      <td>53389</td>\n",
              "      <td>4</td>\n",
              "      <td>0</td>\n",
              "      <td>52016</td>\n",
              "    </tr>\n",
              "    <tr>\n",
              "      <th>.</th>\n",
              "      <td>160</td>\n",
              "      <td>1</td>\n",
              "      <td>0</td>\n",
              "      <td>160</td>\n",
              "    </tr>\n",
              "  </tbody>\n",
              "</table>\n",
              "</div>"
            ],
            "text/plain": [
              "      count unique       top   freq\n",
              "Type                               \n",
              "-1.0  62493     10  1196428'  32018\n",
              "0       159      8  1196428'     74\n",
              "1.0   53389      4         0  52016\n",
              ".       160      1         0    160"
            ]
          },
          "metadata": {
            "tags": []
          },
          "execution_count": 50
        }
      ]
    },
    {
      "cell_type": "code",
      "metadata": {
        "id": "p-zPmkJUGb65",
        "colab_type": "code",
        "colab": {
          "base_uri": "https://localhost:8080/",
          "height": 245
        },
        "outputId": "469e16d1-5f6b-42cf-a07d-0f7196a32dcd"
      },
      "source": [
        "df.pivot_table(index='Type',columns='AccountNo',aggfunc=sum)"
      ],
      "execution_count": 51,
      "outputs": [
        {
          "output_type": "execute_result",
          "data": {
            "text/html": [
              "<div>\n",
              "<style scoped>\n",
              "    .dataframe tbody tr th:only-of-type {\n",
              "        vertical-align: middle;\n",
              "    }\n",
              "\n",
              "    .dataframe tbody tr th {\n",
              "        vertical-align: top;\n",
              "    }\n",
              "\n",
              "    .dataframe thead tr th {\n",
              "        text-align: left;\n",
              "    }\n",
              "\n",
              "    .dataframe thead tr:last-of-type th {\n",
              "        text-align: right;\n",
              "    }\n",
              "</style>\n",
              "<table border=\"1\" class=\"dataframe\">\n",
              "  <thead>\n",
              "    <tr>\n",
              "      <th></th>\n",
              "      <th colspan=\"11\" halign=\"left\">BALANCE AMT</th>\n",
              "      <th colspan=\"11\" halign=\"left\">CHQ.NO</th>\n",
              "      <th colspan=\"11\" halign=\"left\">DEPOSIT AMT</th>\n",
              "      <th colspan=\"11\" halign=\"left\">WITHDRAWAL AMT</th>\n",
              "    </tr>\n",
              "    <tr>\n",
              "      <th>AccountNo</th>\n",
              "      <th>0</th>\n",
              "      <th>1196428'</th>\n",
              "      <th>1196711'</th>\n",
              "      <th>409000362497'</th>\n",
              "      <th>409000405747'</th>\n",
              "      <th>409000425051'</th>\n",
              "      <th>409000438611'</th>\n",
              "      <th>409000438620'</th>\n",
              "      <th>409000493201'</th>\n",
              "      <th>409000493210'</th>\n",
              "      <th>409000611074'</th>\n",
              "      <th>0</th>\n",
              "      <th>1196428'</th>\n",
              "      <th>1196711'</th>\n",
              "      <th>409000362497'</th>\n",
              "      <th>409000405747'</th>\n",
              "      <th>409000425051'</th>\n",
              "      <th>409000438611'</th>\n",
              "      <th>409000438620'</th>\n",
              "      <th>409000493201'</th>\n",
              "      <th>409000493210'</th>\n",
              "      <th>409000611074'</th>\n",
              "      <th>0</th>\n",
              "      <th>1196428'</th>\n",
              "      <th>1196711'</th>\n",
              "      <th>409000362497'</th>\n",
              "      <th>409000405747'</th>\n",
              "      <th>409000425051'</th>\n",
              "      <th>409000438611'</th>\n",
              "      <th>409000438620'</th>\n",
              "      <th>409000493201'</th>\n",
              "      <th>409000493210'</th>\n",
              "      <th>409000611074'</th>\n",
              "      <th>0</th>\n",
              "      <th>1196428'</th>\n",
              "      <th>1196711'</th>\n",
              "      <th>409000362497'</th>\n",
              "      <th>409000405747'</th>\n",
              "      <th>409000425051'</th>\n",
              "      <th>409000438611'</th>\n",
              "      <th>409000438620'</th>\n",
              "      <th>409000493201'</th>\n",
              "      <th>409000493210'</th>\n",
              "      <th>409000611074'</th>\n",
              "    </tr>\n",
              "    <tr>\n",
              "      <th>Type</th>\n",
              "      <th></th>\n",
              "      <th></th>\n",
              "      <th></th>\n",
              "      <th></th>\n",
              "      <th></th>\n",
              "      <th></th>\n",
              "      <th></th>\n",
              "      <th></th>\n",
              "      <th></th>\n",
              "      <th></th>\n",
              "      <th></th>\n",
              "      <th></th>\n",
              "      <th></th>\n",
              "      <th></th>\n",
              "      <th></th>\n",
              "      <th></th>\n",
              "      <th></th>\n",
              "      <th></th>\n",
              "      <th></th>\n",
              "      <th></th>\n",
              "      <th></th>\n",
              "      <th></th>\n",
              "      <th></th>\n",
              "      <th></th>\n",
              "      <th></th>\n",
              "      <th></th>\n",
              "      <th></th>\n",
              "      <th></th>\n",
              "      <th></th>\n",
              "      <th></th>\n",
              "      <th></th>\n",
              "      <th></th>\n",
              "      <th></th>\n",
              "      <th></th>\n",
              "      <th></th>\n",
              "      <th></th>\n",
              "      <th></th>\n",
              "      <th></th>\n",
              "      <th></th>\n",
              "      <th></th>\n",
              "      <th></th>\n",
              "      <th></th>\n",
              "      <th></th>\n",
              "      <th></th>\n",
              "    </tr>\n",
              "  </thead>\n",
              "  <tbody>\n",
              "    <tr>\n",
              "      <th>-1.0</th>\n",
              "      <td>NaN</td>\n",
              "      <td>-5.333408e+13</td>\n",
              "      <td>-8.320248e+12</td>\n",
              "      <td>-2.507904e+13</td>\n",
              "      <td>-9.840688e+09</td>\n",
              "      <td>-1.276733e+09</td>\n",
              "      <td>-1.766605e+12</td>\n",
              "      <td>-2.685794e+12</td>\n",
              "      <td>5.409528e+08</td>\n",
              "      <td>-4.218474e+11</td>\n",
              "      <td>4.861588e+08</td>\n",
              "      <td>NaN</td>\n",
              "      <td>0.0</td>\n",
              "      <td>0.0</td>\n",
              "      <td>0.0</td>\n",
              "      <td>0.0</td>\n",
              "      <td>0.0</td>\n",
              "      <td>0.0</td>\n",
              "      <td>0.0</td>\n",
              "      <td>0.0</td>\n",
              "      <td>0.0</td>\n",
              "      <td>0.0</td>\n",
              "      <td>NaN</td>\n",
              "      <td>6.803686e+10</td>\n",
              "      <td>4.528227e+10</td>\n",
              "      <td>1.017209e+11</td>\n",
              "      <td>225305571.2</td>\n",
              "      <td>12031863.53</td>\n",
              "      <td>4.690899e+09</td>\n",
              "      <td>1.720242e+10</td>\n",
              "      <td>95659314.24</td>\n",
              "      <td>1.022076e+08</td>\n",
              "      <td>145859619.0</td>\n",
              "      <td>NaN</td>\n",
              "      <td>0.0</td>\n",
              "      <td>0.0</td>\n",
              "      <td>0.0</td>\n",
              "      <td>0.0</td>\n",
              "      <td>0.0</td>\n",
              "      <td>0.0</td>\n",
              "      <td>0.0</td>\n",
              "      <td>0.00</td>\n",
              "      <td>0.0</td>\n",
              "      <td>0.0</td>\n",
              "    </tr>\n",
              "    <tr>\n",
              "      <th>0</th>\n",
              "      <td>NaN</td>\n",
              "      <td>-1.246275e+11</td>\n",
              "      <td>-8.829475e+10</td>\n",
              "      <td>-5.695820e+09</td>\n",
              "      <td>-1.103443e+09</td>\n",
              "      <td>4.592003e+05</td>\n",
              "      <td>-5.330176e+08</td>\n",
              "      <td>-2.654300e+09</td>\n",
              "      <td>NaN</td>\n",
              "      <td>-7.090157e+09</td>\n",
              "      <td>NaN</td>\n",
              "      <td>NaN</td>\n",
              "      <td>0.0</td>\n",
              "      <td>0.0</td>\n",
              "      <td>0.0</td>\n",
              "      <td>0.0</td>\n",
              "      <td>0.0</td>\n",
              "      <td>0.0</td>\n",
              "      <td>0.0</td>\n",
              "      <td>NaN</td>\n",
              "      <td>0.0</td>\n",
              "      <td>NaN</td>\n",
              "      <td>NaN</td>\n",
              "      <td>3.456482e+08</td>\n",
              "      <td>5.966213e+08</td>\n",
              "      <td>8.644510e+04</td>\n",
              "      <td>3479645.0</td>\n",
              "      <td>15000000.00</td>\n",
              "      <td>1.500000e+07</td>\n",
              "      <td>1.625310e+04</td>\n",
              "      <td>NaN</td>\n",
              "      <td>2.042660e+03</td>\n",
              "      <td>NaN</td>\n",
              "      <td>NaN</td>\n",
              "      <td>0.0</td>\n",
              "      <td>0.0</td>\n",
              "      <td>0.0</td>\n",
              "      <td>0.0</td>\n",
              "      <td>0.0</td>\n",
              "      <td>0.0</td>\n",
              "      <td>0.0</td>\n",
              "      <td>NaN</td>\n",
              "      <td>0.0</td>\n",
              "      <td>NaN</td>\n",
              "    </tr>\n",
              "    <tr>\n",
              "      <th>1.0</th>\n",
              "      <td>-7.116627e+13</td>\n",
              "      <td>NaN</td>\n",
              "      <td>NaN</td>\n",
              "      <td>NaN</td>\n",
              "      <td>NaN</td>\n",
              "      <td>1.128489e+07</td>\n",
              "      <td>NaN</td>\n",
              "      <td>NaN</td>\n",
              "      <td>5.011304e+08</td>\n",
              "      <td>NaN</td>\n",
              "      <td>1.129375e+09</td>\n",
              "      <td>713953952.0</td>\n",
              "      <td>NaN</td>\n",
              "      <td>NaN</td>\n",
              "      <td>NaN</td>\n",
              "      <td>NaN</td>\n",
              "      <td>45.0</td>\n",
              "      <td>NaN</td>\n",
              "      <td>NaN</td>\n",
              "      <td>0.0</td>\n",
              "      <td>NaN</td>\n",
              "      <td>0.0</td>\n",
              "      <td>0.0</td>\n",
              "      <td>NaN</td>\n",
              "      <td>NaN</td>\n",
              "      <td>NaN</td>\n",
              "      <td>NaN</td>\n",
              "      <td>0.00</td>\n",
              "      <td>NaN</td>\n",
              "      <td>NaN</td>\n",
              "      <td>0.00</td>\n",
              "      <td>NaN</td>\n",
              "      <td>0.0</td>\n",
              "      <td>2.391703e+11</td>\n",
              "      <td>NaN</td>\n",
              "      <td>NaN</td>\n",
              "      <td>NaN</td>\n",
              "      <td>NaN</td>\n",
              "      <td>4702087.5</td>\n",
              "      <td>NaN</td>\n",
              "      <td>NaN</td>\n",
              "      <td>95377930.92</td>\n",
              "      <td>NaN</td>\n",
              "      <td>145397419.0</td>\n",
              "    </tr>\n",
              "    <tr>\n",
              "      <th>.</th>\n",
              "      <td>-2.328758e+11</td>\n",
              "      <td>NaN</td>\n",
              "      <td>NaN</td>\n",
              "      <td>NaN</td>\n",
              "      <td>NaN</td>\n",
              "      <td>NaN</td>\n",
              "      <td>NaN</td>\n",
              "      <td>NaN</td>\n",
              "      <td>NaN</td>\n",
              "      <td>NaN</td>\n",
              "      <td>NaN</td>\n",
              "      <td>2457129.0</td>\n",
              "      <td>NaN</td>\n",
              "      <td>NaN</td>\n",
              "      <td>NaN</td>\n",
              "      <td>NaN</td>\n",
              "      <td>NaN</td>\n",
              "      <td>NaN</td>\n",
              "      <td>NaN</td>\n",
              "      <td>NaN</td>\n",
              "      <td>NaN</td>\n",
              "      <td>NaN</td>\n",
              "      <td>0.0</td>\n",
              "      <td>NaN</td>\n",
              "      <td>NaN</td>\n",
              "      <td>NaN</td>\n",
              "      <td>NaN</td>\n",
              "      <td>NaN</td>\n",
              "      <td>NaN</td>\n",
              "      <td>NaN</td>\n",
              "      <td>NaN</td>\n",
              "      <td>NaN</td>\n",
              "      <td>NaN</td>\n",
              "      <td>9.758589e+08</td>\n",
              "      <td>NaN</td>\n",
              "      <td>NaN</td>\n",
              "      <td>NaN</td>\n",
              "      <td>NaN</td>\n",
              "      <td>NaN</td>\n",
              "      <td>NaN</td>\n",
              "      <td>NaN</td>\n",
              "      <td>NaN</td>\n",
              "      <td>NaN</td>\n",
              "      <td>NaN</td>\n",
              "    </tr>\n",
              "  </tbody>\n",
              "</table>\n",
              "</div>"
            ],
            "text/plain": [
              "            BALANCE AMT                ... WITHDRAWAL AMT              \n",
              "AccountNo             0      1196428'  ...  409000493210' 409000611074'\n",
              "Type                                   ...                             \n",
              "-1.0                NaN -5.333408e+13  ...            0.0           0.0\n",
              "0                   NaN -1.246275e+11  ...            0.0           NaN\n",
              "1.0       -7.116627e+13           NaN  ...            NaN   145397419.0\n",
              ".         -2.328758e+11           NaN  ...            NaN           NaN\n",
              "\n",
              "[4 rows x 44 columns]"
            ]
          },
          "metadata": {
            "tags": []
          },
          "execution_count": 51
        }
      ]
    },
    {
      "cell_type": "markdown",
      "metadata": {
        "id": "EBfwTtDbIYGe",
        "colab_type": "text"
      },
      "source": [
        "A ideia que tive foi que classficando as transações eu poderia pegar o account id de cada cliente e mapeada pela quantidade de vezes que ele fez uma transação de creditos e de depositos para saber se o saldo dele é neutro ou se ele sempre faz mais depositos do que saques. Porem não conseguir pensar uma logica de agregação efetiva desses valores."
      ]
    }
  ]
}